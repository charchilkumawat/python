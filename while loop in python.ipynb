{
  "cells": [
    {
      "cell_type": "markdown",
      "metadata": {
        "colab_type": "text",
        "id": "view-in-github"
      },
      "source": [
        "<a href=\"https://colab.research.google.com/github/AnmolHemani/Python/blob/main/Day_4_assignment.ipynb\" target=\"_parent\"><img src=\"https://colab.research.google.com/assets/colab-badge.svg\" alt=\"Open In Colab\"/></a>"
      ]
    },
    {
      "cell_type": "code",
      "execution_count": 5,
      "metadata": {
        "colab": {
          "base_uri": "https://localhost:8080/"
        },
        "id": "cYQkvwOXsuO2",
        "outputId": "2c5b3aab-a3d8-444a-d1a7-32079d585c41"
      },
      "outputs": [
        {
          "name": "stdout",
          "output_type": "stream",
          "text": [
            "Enter the Value of n : 5\n",
            "1\n",
            "2\n",
            "3\n",
            "4\n",
            "5\n"
          ]
        }
      ],
      "source": [
        "# 1. Write a program to print all natural numbers from 1 to n.\n",
        "# – using while loop\n",
        "\n",
        "n=int(input(\"Enter the Value of n : \"))\n",
        "i=1\n",
        "while i<=n:\n",
        "  print(i)\n",
        "  i+=1"
      ]
    },
    {
      "cell_type": "code",
      "execution_count": 6,
      "metadata": {
        "colab": {
          "base_uri": "https://localhost:8080/"
        },
        "id": "105XrpDotmmO",
        "outputId": "0d484ef8-93bf-47d1-8c07-01a7cd8fd91e"
      },
      "outputs": [
        {
          "name": "stdout",
          "output_type": "stream",
          "text": [
            "Enter the value of n : 5\n",
            "5\n",
            "4\n",
            "3\n",
            "2\n",
            "1\n"
          ]
        }
      ],
      "source": [
        "# 2. Write a program to print all natural numbers in reverse (from n to 1).\n",
        "# – using while loop\n",
        "\n",
        "n=int(input(\"Enter the value of n : \"))\n",
        "while n>=1:\n",
        "  print(n)\n",
        "  n-=1"
      ]
    },
    {
      "cell_type": "code",
      "execution_count": 9,
      "metadata": {
        "colab": {
          "base_uri": "https://localhost:8080/"
        },
        "id": "LlyiWss9uLis",
        "outputId": "ab3c560b-2127-4e14-a729-74e903d0b317"
      },
      "outputs": [
        {
          "name": "stdout",
          "output_type": "stream",
          "text": [
            "a\n",
            "b\n",
            "c\n",
            "d\n",
            "e\n",
            "f\n",
            "g\n",
            "h\n",
            "i\n",
            "j\n",
            "k\n",
            "l\n",
            "m\n",
            "n\n",
            "o\n",
            "p\n",
            "q\n",
            "r\n",
            "s\n",
            "t\n",
            "u\n",
            "v\n",
            "w\n",
            "x\n",
            "y\n",
            "z\n"
          ]
        }
      ],
      "source": [
        "# 3. Write a program to print all alphabets from a to z.\n",
        "# – using while loop\n",
        "\n",
        "i=97\n",
        "while i<=122:\n",
        "  print(chr(i))\n",
        "  i+=1"
      ]
    },
    {
      "cell_type": "code",
      "execution_count": 10,
      "metadata": {
        "colab": {
          "base_uri": "https://localhost:8080/"
        },
        "id": "lS0cHTlbwsbV",
        "outputId": "3c4e41c5-3a69-4f56-ac9b-b200ec7d7b96"
      },
      "outputs": [
        {
          "name": "stdout",
          "output_type": "stream",
          "text": [
            "2\n",
            "4\n",
            "6\n",
            "8\n",
            "10\n",
            "12\n",
            "14\n",
            "16\n",
            "18\n",
            "20\n",
            "22\n",
            "24\n",
            "26\n",
            "28\n",
            "30\n",
            "32\n",
            "34\n",
            "36\n",
            "38\n",
            "40\n",
            "42\n",
            "44\n",
            "46\n",
            "48\n",
            "50\n",
            "52\n",
            "54\n",
            "56\n",
            "58\n",
            "60\n",
            "62\n",
            "64\n",
            "66\n",
            "68\n",
            "70\n",
            "72\n",
            "74\n",
            "76\n",
            "78\n",
            "80\n",
            "82\n",
            "84\n",
            "86\n",
            "88\n",
            "90\n",
            "92\n",
            "94\n",
            "96\n",
            "98\n",
            "100\n"
          ]
        }
      ],
      "source": [
        "# 4. Write a program to print all even numbers between 1 to 100.\n",
        "# – using while loop\n",
        "\n",
        "i=1\n",
        "while i<=100:\n",
        "  if i%2==0:\n",
        "    print(i)\n",
        "  i+=1"
      ]
    },
    {
      "cell_type": "code",
      "execution_count": 11,
      "metadata": {
        "colab": {
          "base_uri": "https://localhost:8080/"
        },
        "id": "HQh33kDIxAtq",
        "outputId": "97ae39dd-8742-4277-e580-8e74ac5e0bb7"
      },
      "outputs": [
        {
          "name": "stdout",
          "output_type": "stream",
          "text": [
            "Enter the value of n : 10\n",
            "25\n"
          ]
        }
      ],
      "source": [
        "# 5. Write a program to find the sum of all odd numbers between 1 to n.\n",
        "\n",
        "n=int(input(\"Enter the value of n : \"))\n",
        "i=1\n",
        "sum=0\n",
        "while i<=n:\n",
        "  if i%2!=0:\n",
        "    sum+=i\n",
        "  i+=1\n",
        "print(sum)"
      ]
    },
    {
      "cell_type": "code",
      "execution_count": 17,
      "metadata": {
        "colab": {
          "base_uri": "https://localhost:8080/"
        },
        "id": "yTcrZm4CxlGc",
        "outputId": "57f75af2-5455-433b-dce2-e1f111f6f84f"
      },
      "outputs": [
        {
          "name": "stdout",
          "output_type": "stream",
          "text": [
            "Enter the value of n : 4521\n",
            "4\n"
          ]
        }
      ],
      "source": [
        "# 6. Write a program to count the number of digits in a number.\n",
        "\n",
        "n=int(input(\"Enter the value of n : \"))\n",
        "count=0\n",
        "while n>0:\n",
        "  n=n//10\n",
        "  count+=1\n",
        "print(count)"
      ]
    },
    {
      "cell_type": "code",
      "execution_count": 18,
      "metadata": {
        "colab": {
          "base_uri": "https://localhost:8080/"
        },
        "id": "ozFWQlawyGYI",
        "outputId": "957799f5-3a22-4f21-b831-b8cfbc691a0c"
      },
      "outputs": [
        {
          "name": "stdout",
          "output_type": "stream",
          "text": [
            "Enter the value of n : 4521\n",
            "12\n"
          ]
        }
      ],
      "source": [
        "# 7. Write a program to calculate the sum of digits of a number.\n",
        "\n",
        "n=int(input(\"Enter the value of n : \"))\n",
        "sum=0\n",
        "while n>0:\n",
        "  rem=n%10\n",
        "  sum+=rem\n",
        "  n=n//10\n",
        "print(sum)"
      ]
    },
    {
      "cell_type": "code",
      "execution_count": 27,
      "metadata": {
        "colab": {
          "base_uri": "https://localhost:8080/"
        },
        "id": "tZHS1gesyfQB",
        "outputId": "526fab6c-f444-4510-b037-274f3e5e7ade"
      },
      "outputs": [
        {
          "name": "stdout",
          "output_type": "stream",
          "text": [
            "Enter the value of n : 4521\n",
            "First Digit is :  4\n",
            "Last Digit is :  1\n"
          ]
        }
      ],
      "source": [
        "# 8. Write a program to find the first and last digit of a number.\n",
        "\n",
        "n=int(input(\"Enter the value of n : \"))\n",
        "last=n%10\n",
        "while n>0:\n",
        "  first=n\n",
        "  n=n//10\n",
        "print(\"First Digit is : \",first)\n",
        "print(\"Last Digit is : \",last)"
      ]
    },
    {
      "cell_type": "code",
      "execution_count": 31,
      "metadata": {
        "colab": {
          "base_uri": "https://localhost:8080/"
        },
        "id": "KmbCmNrm3Rl1",
        "outputId": "5ff7cd7c-f78b-4993-a152-f1c8e324c783"
      },
      "outputs": [
        {
          "name": "stdout",
          "output_type": "stream",
          "text": [
            "Enter the value of n : 4521\n",
            "Sum is first & last digit is :  5\n"
          ]
        }
      ],
      "source": [
        "# 9. Write a program to find the sum of first and last digit of a number.\n",
        "\n",
        "n=int(input(\"Enter the value of n : \"))\n",
        "last=n%10\n",
        "while n>0:\n",
        "  first=n\n",
        "  n=n//10\n",
        "print(\"Sum is first & last digit is : \",first+last)"
      ]
    },
    {
      "cell_type": "code",
      "execution_count": 32,
      "metadata": {
        "colab": {
          "base_uri": "https://localhost:8080/"
        },
        "id": "pSUHb5Wz3tK8",
        "outputId": "afe781f9-1b86-493d-d2c4-46c5377d40f0"
      },
      "outputs": [
        {
          "name": "stdout",
          "output_type": "stream",
          "text": [
            "Enter the value of n : 4521\n",
            "1254\n"
          ]
        }
      ],
      "source": [
        "# 10.Write a program to enter a number and print its reverse.\n",
        "\n",
        "n=int(input(\"Enter the value of n : \"))\n",
        "sum=0\n",
        "while n>0:\n",
        "  rem=n%10\n",
        "  sum=sum*10+rem\n",
        "  n=n//10\n",
        "print(sum)"
      ]
    },
    {
      "cell_type": "code",
      "execution_count": 33,
      "metadata": {
        "colab": {
          "base_uri": "https://localhost:8080/"
        },
        "id": "kEJkhqX84GoN",
        "outputId": "5fac39fd-f70b-44f2-93f0-fc51106411a2"
      },
      "outputs": [
        {
          "name": "stdout",
          "output_type": "stream",
          "text": [
            "Enter the value of n : 2\n",
            "Enter the value of p : 4\n",
            "16\n"
          ]
        }
      ],
      "source": [
        "# 11.Write a program to find the power of a number using for loop.\n",
        "\n",
        "n=int(input(\"Enter the value of n : \"))\n",
        "p=int(input(\"Enter the value of p : \"))\n",
        "pow=1\n",
        "for i in range(1,p+1):\n",
        "  pow*=n\n",
        "print(pow)"
      ]
    },
    {
      "cell_type": "code",
      "execution_count": 34,
      "metadata": {
        "colab": {
          "base_uri": "https://localhost:8080/"
        },
        "id": "NPdgEXW85cTk",
        "outputId": "0312ade0-f6d4-4124-88cf-f33aaa810ebe"
      },
      "outputs": [
        {
          "name": "stdout",
          "output_type": "stream",
          "text": [
            "Enter the value of n : 4\n",
            "1\n",
            "2\n",
            "4\n"
          ]
        }
      ],
      "source": [
        "# 12.Write a program to find all factors of a number.\n",
        "\n",
        "n=int(input(\"Enter the value of n : \"))\n",
        "for i in range(1,n+1):\n",
        "  if n%i==0:\n",
        "    print(i)"
      ]
    },
    {
      "cell_type": "code",
      "execution_count": 36,
      "metadata": {
        "colab": {
          "base_uri": "https://localhost:8080/"
        },
        "id": "SN-qRPqE5ziH",
        "outputId": "96c51cd7-c50b-4227-c108-763b4cfd6231"
      },
      "outputs": [
        {
          "name": "stdout",
          "output_type": "stream",
          "text": [
            "Enter the value of n : 4\n",
            "24\n"
          ]
        }
      ],
      "source": [
        "# 13.Write a program to calculate the factorial of a number.\n",
        "\n",
        "n=int(input(\"Enter the value of n : \"))\n",
        "fact=1\n",
        "for i in range(1,n+1):\n",
        "  fact*=i\n",
        "print(fact)"
      ]
    },
    {
      "cell_type": "code",
      "execution_count": 41,
      "metadata": {
        "colab": {
          "base_uri": "https://localhost:8080/"
        },
        "id": "PB1girTp6PfR",
        "outputId": "930a2344-1d81-42a2-8dae-3e2aa46f9bd9"
      },
      "outputs": [
        {
          "name": "stdout",
          "output_type": "stream",
          "text": [
            "Enter the value of n1 : 2\n",
            "Enter the value of n2 : 4\n",
            "4\n"
          ]
        }
      ],
      "source": [
        "# 14.Write a program to find LCM of two numbers.\n",
        "\n",
        "n1=int(input(\"Enter the value of n1 : \"))\n",
        "n2=int(input(\"Enter the value of n2 : \"))\n",
        "\n",
        "# using for loop\n",
        "# for i in range(1,n1+1):\n",
        "#   if n1%i==0 and n2%i==0:\n",
        "#     x=i\n",
        "#   lcm=n1*n2//x\n",
        "# print(lcm)\n",
        "\n",
        "# using while loop\n",
        "i=1\n",
        "while i<=n1:\n",
        "  if n1%i==0 and n2%i==0:\n",
        "    x=i\n",
        "    i+=1\n",
        "  lcm=n1*n2//x\n",
        "print(lcm)"
      ]
    },
    {
      "cell_type": "code",
      "execution_count": 45,
      "metadata": {
        "colab": {
          "base_uri": "https://localhost:8080/"
        },
        "id": "zFDZ0fG0_mP1",
        "outputId": "ffded911-c630-40d4-8d60-3ad655305a3b"
      },
      "outputs": [
        {
          "name": "stdout",
          "output_type": "stream",
          "text": [
            "Enter the value of n : 19\n",
            "prime num\n"
          ]
        }
      ],
      "source": [
        "# 15.Write a program to check whether a number is Prime number or not.\n",
        "\n",
        "n=int(input(\"Enter the value of n : \"))\n",
        "a=0\n",
        "for i in range(2,n):\n",
        "  if n%i==0:\n",
        "    a=1\n",
        "    break\n",
        "if a==1:\n",
        "  print(\"not a prime num\")\n",
        "else:\n",
        "  print(\"prime num\")\n"
      ]
    },
    {
      "cell_type": "code",
      "execution_count": 46,
      "metadata": {
        "colab": {
          "base_uri": "https://localhost:8080/"
        },
        "id": "9PA0upY0CJER",
        "outputId": "d1ec4b5c-5c77-4014-9be8-b4356d6a51bf"
      },
      "outputs": [
        {
          "name": "stdout",
          "output_type": "stream",
          "text": [
            "Enter the value of n : 153\n",
            "Armstrong num\n"
          ]
        }
      ],
      "source": [
        "# Armsrong number\n",
        "\n",
        "n=int(input(\"Enter the value of n : \"))\n",
        "sum=0\n",
        "temp=n\n",
        "while n>0:\n",
        "  rem=n%10\n",
        "  sum=sum+rem**3\n",
        "  n=n//10\n",
        "if sum==temp:\n",
        "  print(\"Armstrong num\")\n",
        "else:\n",
        "  print(\"Not a Armstrong num\")"
      ]
    },
    {
      "cell_type": "code",
      "execution_count": 47,
      "metadata": {
        "colab": {
          "base_uri": "https://localhost:8080/"
        },
        "id": "vQLoMafoCyXl",
        "outputId": "42eb781b-1166-489d-d0d1-a22e4232d137"
      },
      "outputs": [
        {
          "name": "stdout",
          "output_type": "stream",
          "text": [
            "Enter the value of n : 5\n",
            "0\n",
            "1\n",
            "1\n",
            "2\n",
            "3\n",
            "5\n",
            "8\n"
          ]
        }
      ],
      "source": [
        "# Fibonacci series\n",
        "n=int(input(\"Enter the value of n : \"))\n",
        "n1=0\n",
        "n2=1\n",
        "print(n1)\n",
        "print(n2)\n",
        "for i in range(1,n+1):\n",
        "  n3=n1+n2\n",
        "  print(n3)\n",
        "  n1=n2\n",
        "  n2=n3"
      ]
    }
  ],
  "metadata": {
    "colab": {
      "authorship_tag": "ABX9TyPBglcj+uWHHFtDttBYRBId",
      "include_colab_link": true,
      "provenance": []
    },
    "kernelspec": {
      "display_name": "Python 3",
      "name": "python3"
    },
    "language_info": {
      "name": "python"
    }
  },
  "nbformat": 4,
  "nbformat_minor": 0
}
